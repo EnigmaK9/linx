{
  "cells": [
    {
      "cell_type": "markdown",
      "metadata": {
        "id": "gJm5Fnrgmg77"
      },
      "source": []
    },
    {
      "cell_type": "code",
      "execution_count": 1,
      "metadata": {
        "id": "kve4HLLTwvP_"
      },
      "outputs": [],
      "source": [
        "import random\n",
        "from ipywidgets import interact, widgets, IntSlider\n",
        "\n"
      ]
    },
    {
      "cell_type": "code",
      "execution_count": 2,
      "metadata": {
        "id": "c5M9l-z_wyiA"
      },
      "outputs": [],
      "source": [
        "# Definición de la clase Tarea\n",
        "class Tarea:\n",
        "    def __init__(self, nombre, prioridad=0.5, peso=1, consumo = 0.03):\n",
        "        '''Inicializa una tarea con un nombre, prioridad y peso por defecto'''\n",
        "        self.nombre = nombre\n",
        "        self.prioridad = prioridad\n",
        "        self.peso = peso\n",
        "        self.consumo = consumo\n",
        "\n",
        "    def __repr__(self):\n",
        "        '''Representación de la tarea en forma de cadena'''\n",
        "        return f\"Tarea({self.nombre}, prioridad={self.prioridad}, peso={self.peso}, consumo={self.consumo})\"\n"
      ]
    },
    {
      "cell_type": "code",
      "execution_count": 3,
      "metadata": {
        "id": "B8PeYxxcw2w2"
      },
      "outputs": [],
      "source": [
        "# Definición de la clase VectorTareas\n",
        "class VectorTareas:\n",
        "    def __init__(self, longitud=5):\n",
        "        '''Inicializa un vector de tareas con una longitud dada'''\n",
        "        self.longitud = longitud\n",
        "        # Ajustar los pesos de las tareas según lo solicitado\n",
        "        self.tareas = [Tarea(f\"Tarea {i+1}\", peso=1 if i < 2 else 0 if i == 2 else random.uniform(0, 1)) for i in range(longitud)]\n",
        "\n",
        "    def ordenar_por_peso_ascendente(self):\n",
        "        '''Ordena las tareas por peso de menor a mayor'''\n",
        "        self.tareas.sort(key=lambda tarea: tarea.peso)\n",
        "\n",
        "    def ordenar_por_peso_descendente(self):\n",
        "        '''Ordena las tareas por peso de mayor a menor'''\n",
        "        self.tareas.sort(key=lambda tarea: tarea.peso, reverse=True)\n",
        "\n",
        "    def ordenar_por_consumo_ascendente(self):\n",
        "        '''Ordena las tareas por consumo de menor a mayor'''\n",
        "        self.tareas.sort(key=lambda tarea: tarea.consumo)      \n",
        "\n",
        "    def ordenar_por_consumo_descendente(self):\n",
        "        '''Ordena las tareas por consumo de mayor a menor'''\n",
        "        self.tareas.sort(key=lambda tarea: tarea.consumo, reverse=True)\n",
        "\n",
        "    def mostrar(self):\n",
        "        '''Muestra todas las tareas en el vector'''\n",
        "        for tarea in self.tareas:\n",
        "            print(tarea)\n",
        "'''comentario'''\n",
        "    def cambiar_longitud(self, longitud):\n",
        "        '''Cambia la longitud del vector y crea nuevas tareas si es necesario'''\n",
        "        self.longitud = longitud\n",
        "        # Ajustar los pesos de las tareas según lo solicitado\n",
        "        self.tareas = [Tarea(f\"Tarea {i+1}\", peso=1 if i < 2 else 0 if i == 2 else random.uniform(0, 1)) for i in range(longitud)]  \n",
        "        #self.consumo =10 if i < 1  else 20 if i == 1 else 15 if i == 2 else random.uniform(0, 100) for i in range(longitud)"
      ]
    },
    {
      "cell_type": "code",
      "execution_count": 4,
      "metadata": {
        "colab": {
          "base_uri": "https://localhost:8080/",
          "height": 368,
          "referenced_widgets": [
            "75a6257a39694795b805031218d611c2",
            "0a7fd3cc1acf42549fd71abc3822bf02",
            "a178ca87a2a745618836a941f30dedea",
            "e17a0a75b8c742cabfe955832c5c4a00",
            "41a35bb647054ddcb4942fef9d361136",
            "9159518133514afc929e528e1ef55ae1",
            "2159e8ebe35c4191950ab1d2a635ce1f",
            "1c621e37067542d9989746a1149c38b5",
            "b8ea959545d44ba1a5a7a63ebe437ea8",
            "5bca8843b7394affbf2001fec88e5587",
            "e07002110057432ba9373af2ea6962be",
            "c7cf09fe50894d28a5a1bc3633eceb66",
            "6b4d8fec0cdf4f759b4ffd44f3dc446f",
            "75c729a12567432390142d42b66c49a5"
          ]
        },
        "id": "nu1qPdUgvzls",
        "outputId": "0de02a1d-c5da-4b25-91fc-0e550b822476"
      },
      "outputs": [
        {
          "data": {
            "application/vnd.jupyter.widget-view+json": {
              "model_id": "64444e145b914c11ac73164849908f61",
              "version_major": 2,
              "version_minor": 0
            },
            "text/plain": [
              "IntSlider(value=1, max=10, min=1)"
            ]
          },
          "metadata": {},
          "output_type": "display_data"
        },
        {
          "data": {
            "application/vnd.jupyter.widget-view+json": {
              "model_id": "666b73989ffa4bde8e309ebf7e947059",
              "version_major": 2,
              "version_minor": 0
            },
            "text/plain": [
              "interactive(children=(IntSlider(value=5, description='longitud', max=20, min=1), Output()), _dom_classes=('wid…"
            ]
          },
          "metadata": {},
          "output_type": "display_data"
        },
        {
          "data": {
            "application/vnd.jupyter.widget-view+json": {
              "model_id": "f0df0f901e734b2382ecf030c1a80648",
              "version_major": 2,
              "version_minor": 0
            },
            "text/plain": [
              "interactive(children=(Dropdown(description='tipo_ordenamiento', options=('Ascendente', 'Descendente'), value='…"
            ]
          },
          "metadata": {},
          "output_type": "display_data"
        }
      ],
      "source": [
        "# Funciones de GUI\n",
        "def actualizar_vector(longitud):\n",
        "    '''Actualiza el vector con una nueva longitud'''\n",
        "    vector.cambiar_longitud(longitud)\n",
        "    mostrar_vector()\n",
        "\n",
        "def ordenar_vector(tipo_ordenamiento):\n",
        "    '''Ordena el vector según el tipo de ordenamiento seleccionado'''\n",
        "    if tipo_ordenamiento == \"Ascendente\":\n",
        "        vector.ordenar_por_peso_ascendente()\n",
        "    elif tipo_ordenamiento == \"Descendente\":\n",
        "        vector.ordenar_por_peso_descendente()\n",
        "    mostrar_vector()\n",
        "\n",
        "def mostrar_vector():\n",
        "    '''Muestra las tareas del vector'''\n",
        "    for tarea in vector.tareas:\n",
        "        print(tarea)\n",
        "\n",
        "# Crear vector inicial\n",
        "vector = VectorTareas()\n",
        "\n",
        "# Interacción con widgets\n",
        "slider = IntSlider(min=1, max=10)\n",
        "display(slider)\n",
        "interact_actualizar = interact(actualizar_vector, longitud=widgets.IntSlider(min=1, max=20, value=5))\n",
        "interact_ordenar = interact(ordenar_vector, tipo_ordenamiento=[\"Ascendente\", \"Descendente\"])\n"
      ]
    }
  ],
  "metadata": {
    "colab": {
      "provenance": []
    },
    "kernelspec": {
      "display_name": "Python 3",
      "name": "python3"
    },
    "language_info": {
      "codemirror_mode": {
        "name": "ipython",
        "version": 3
      },
      "file_extension": ".py",
      "mimetype": "text/x-python",
      "name": "python",
      "nbconvert_exporter": "python",
      "pygments_lexer": "ipython3",
      "version": "3.11.7"
    },
    "widgets": {
      "application/vnd.jupyter.widget-state+json": {
        "0a7fd3cc1acf42549fd71abc3822bf02": {
          "model_module": "@jupyter-widgets/controls",
          "model_module_version": "1.5.0",
          "model_name": "IntSliderModel",
          "state": {
            "_dom_classes": [],
            "_model_module": "@jupyter-widgets/controls",
            "_model_module_version": "1.5.0",
            "_model_name": "IntSliderModel",
            "_view_count": null,
            "_view_module": "@jupyter-widgets/controls",
            "_view_module_version": "1.5.0",
            "_view_name": "IntSliderView",
            "continuous_update": true,
            "description": "longitud",
            "description_tooltip": null,
            "disabled": false,
            "layout": "IPY_MODEL_41a35bb647054ddcb4942fef9d361136",
            "max": 20,
            "min": 1,
            "orientation": "horizontal",
            "readout": true,
            "readout_format": "d",
            "step": 1,
            "style": "IPY_MODEL_9159518133514afc929e528e1ef55ae1",
            "value": 8
          }
        },
        "1c621e37067542d9989746a1149c38b5": {
          "model_module": "@jupyter-widgets/controls",
          "model_module_version": "1.5.0",
          "model_name": "VBoxModel",
          "state": {
            "_dom_classes": [
              "widget-interact"
            ],
            "_model_module": "@jupyter-widgets/controls",
            "_model_module_version": "1.5.0",
            "_model_name": "VBoxModel",
            "_view_count": null,
            "_view_module": "@jupyter-widgets/controls",
            "_view_module_version": "1.5.0",
            "_view_name": "VBoxView",
            "box_style": "",
            "children": [
              "IPY_MODEL_b8ea959545d44ba1a5a7a63ebe437ea8",
              "IPY_MODEL_5bca8843b7394affbf2001fec88e5587"
            ],
            "layout": "IPY_MODEL_e07002110057432ba9373af2ea6962be"
          }
        },
        "2159e8ebe35c4191950ab1d2a635ce1f": {
          "model_module": "@jupyter-widgets/base",
          "model_module_version": "1.2.0",
          "model_name": "LayoutModel",
          "state": {
            "_model_module": "@jupyter-widgets/base",
            "_model_module_version": "1.2.0",
            "_model_name": "LayoutModel",
            "_view_count": null,
            "_view_module": "@jupyter-widgets/base",
            "_view_module_version": "1.2.0",
            "_view_name": "LayoutView",
            "align_content": null,
            "align_items": null,
            "align_self": null,
            "border": null,
            "bottom": null,
            "display": null,
            "flex": null,
            "flex_flow": null,
            "grid_area": null,
            "grid_auto_columns": null,
            "grid_auto_flow": null,
            "grid_auto_rows": null,
            "grid_column": null,
            "grid_gap": null,
            "grid_row": null,
            "grid_template_areas": null,
            "grid_template_columns": null,
            "grid_template_rows": null,
            "height": null,
            "justify_content": null,
            "justify_items": null,
            "left": null,
            "margin": null,
            "max_height": null,
            "max_width": null,
            "min_height": null,
            "min_width": null,
            "object_fit": null,
            "object_position": null,
            "order": null,
            "overflow": null,
            "overflow_x": null,
            "overflow_y": null,
            "padding": null,
            "right": null,
            "top": null,
            "visibility": null,
            "width": null
          }
        },
        "41a35bb647054ddcb4942fef9d361136": {
          "model_module": "@jupyter-widgets/base",
          "model_module_version": "1.2.0",
          "model_name": "LayoutModel",
          "state": {
            "_model_module": "@jupyter-widgets/base",
            "_model_module_version": "1.2.0",
            "_model_name": "LayoutModel",
            "_view_count": null,
            "_view_module": "@jupyter-widgets/base",
            "_view_module_version": "1.2.0",
            "_view_name": "LayoutView",
            "align_content": null,
            "align_items": null,
            "align_self": null,
            "border": null,
            "bottom": null,
            "display": null,
            "flex": null,
            "flex_flow": null,
            "grid_area": null,
            "grid_auto_columns": null,
            "grid_auto_flow": null,
            "grid_auto_rows": null,
            "grid_column": null,
            "grid_gap": null,
            "grid_row": null,
            "grid_template_areas": null,
            "grid_template_columns": null,
            "grid_template_rows": null,
            "height": null,
            "justify_content": null,
            "justify_items": null,
            "left": null,
            "margin": null,
            "max_height": null,
            "max_width": null,
            "min_height": null,
            "min_width": null,
            "object_fit": null,
            "object_position": null,
            "order": null,
            "overflow": null,
            "overflow_x": null,
            "overflow_y": null,
            "padding": null,
            "right": null,
            "top": null,
            "visibility": null,
            "width": null
          }
        },
        "5bca8843b7394affbf2001fec88e5587": {
          "model_module": "@jupyter-widgets/output",
          "model_module_version": "1.0.0",
          "model_name": "OutputModel",
          "state": {
            "_dom_classes": [],
            "_model_module": "@jupyter-widgets/output",
            "_model_module_version": "1.0.0",
            "_model_name": "OutputModel",
            "_view_count": null,
            "_view_module": "@jupyter-widgets/output",
            "_view_module_version": "1.0.0",
            "_view_name": "OutputView",
            "layout": "IPY_MODEL_75c729a12567432390142d42b66c49a5",
            "msg_id": "",
            "outputs": [
              {
                "name": "stdout",
                "output_type": "stream",
                "text": [
                  "Tarea(Tarea 1, prioridad=0.5, peso=1)\n",
                  "Tarea(Tarea 2, prioridad=0.5, peso=1)\n",
                  "Tarea(Tarea 7, prioridad=0.5, peso=0.9738000132103355)\n",
                  "Tarea(Tarea 8, prioridad=0.5, peso=0.6373431048292527)\n",
                  "Tarea(Tarea 4, prioridad=0.5, peso=0.5496992449352662)\n",
                  "Tarea(Tarea 5, prioridad=0.5, peso=0.47212261307550896)\n",
                  "Tarea(Tarea 6, prioridad=0.5, peso=0.24453735273394306)\n",
                  "Tarea(Tarea 3, prioridad=0.5, peso=0)\n"
                ]
              }
            ]
          }
        },
        "6b4d8fec0cdf4f759b4ffd44f3dc446f": {
          "model_module": "@jupyter-widgets/controls",
          "model_module_version": "1.5.0",
          "model_name": "DescriptionStyleModel",
          "state": {
            "_model_module": "@jupyter-widgets/controls",
            "_model_module_version": "1.5.0",
            "_model_name": "DescriptionStyleModel",
            "_view_count": null,
            "_view_module": "@jupyter-widgets/base",
            "_view_module_version": "1.2.0",
            "_view_name": "StyleView",
            "description_width": ""
          }
        },
        "75a6257a39694795b805031218d611c2": {
          "model_module": "@jupyter-widgets/controls",
          "model_module_version": "1.5.0",
          "model_name": "VBoxModel",
          "state": {
            "_dom_classes": [
              "widget-interact"
            ],
            "_model_module": "@jupyter-widgets/controls",
            "_model_module_version": "1.5.0",
            "_model_name": "VBoxModel",
            "_view_count": null,
            "_view_module": "@jupyter-widgets/controls",
            "_view_module_version": "1.5.0",
            "_view_name": "VBoxView",
            "box_style": "",
            "children": [
              "IPY_MODEL_0a7fd3cc1acf42549fd71abc3822bf02",
              "IPY_MODEL_a178ca87a2a745618836a941f30dedea"
            ],
            "layout": "IPY_MODEL_e17a0a75b8c742cabfe955832c5c4a00"
          }
        },
        "75c729a12567432390142d42b66c49a5": {
          "model_module": "@jupyter-widgets/base",
          "model_module_version": "1.2.0",
          "model_name": "LayoutModel",
          "state": {
            "_model_module": "@jupyter-widgets/base",
            "_model_module_version": "1.2.0",
            "_model_name": "LayoutModel",
            "_view_count": null,
            "_view_module": "@jupyter-widgets/base",
            "_view_module_version": "1.2.0",
            "_view_name": "LayoutView",
            "align_content": null,
            "align_items": null,
            "align_self": null,
            "border": null,
            "bottom": null,
            "display": null,
            "flex": null,
            "flex_flow": null,
            "grid_area": null,
            "grid_auto_columns": null,
            "grid_auto_flow": null,
            "grid_auto_rows": null,
            "grid_column": null,
            "grid_gap": null,
            "grid_row": null,
            "grid_template_areas": null,
            "grid_template_columns": null,
            "grid_template_rows": null,
            "height": null,
            "justify_content": null,
            "justify_items": null,
            "left": null,
            "margin": null,
            "max_height": null,
            "max_width": null,
            "min_height": null,
            "min_width": null,
            "object_fit": null,
            "object_position": null,
            "order": null,
            "overflow": null,
            "overflow_x": null,
            "overflow_y": null,
            "padding": null,
            "right": null,
            "top": null,
            "visibility": null,
            "width": null
          }
        },
        "9159518133514afc929e528e1ef55ae1": {
          "model_module": "@jupyter-widgets/controls",
          "model_module_version": "1.5.0",
          "model_name": "SliderStyleModel",
          "state": {
            "_model_module": "@jupyter-widgets/controls",
            "_model_module_version": "1.5.0",
            "_model_name": "SliderStyleModel",
            "_view_count": null,
            "_view_module": "@jupyter-widgets/base",
            "_view_module_version": "1.2.0",
            "_view_name": "StyleView",
            "description_width": "",
            "handle_color": null
          }
        },
        "a178ca87a2a745618836a941f30dedea": {
          "model_module": "@jupyter-widgets/output",
          "model_module_version": "1.0.0",
          "model_name": "OutputModel",
          "state": {
            "_dom_classes": [],
            "_model_module": "@jupyter-widgets/output",
            "_model_module_version": "1.0.0",
            "_model_name": "OutputModel",
            "_view_count": null,
            "_view_module": "@jupyter-widgets/output",
            "_view_module_version": "1.0.0",
            "_view_name": "OutputView",
            "layout": "IPY_MODEL_2159e8ebe35c4191950ab1d2a635ce1f",
            "msg_id": "",
            "outputs": [
              {
                "name": "stdout",
                "output_type": "stream",
                "text": [
                  "Tarea(Tarea 1, prioridad=0.5, peso=1)\n",
                  "Tarea(Tarea 2, prioridad=0.5, peso=1)\n",
                  "Tarea(Tarea 3, prioridad=0.5, peso=0)\n",
                  "Tarea(Tarea 4, prioridad=0.5, peso=0.5496992449352662)\n",
                  "Tarea(Tarea 5, prioridad=0.5, peso=0.47212261307550896)\n",
                  "Tarea(Tarea 6, prioridad=0.5, peso=0.24453735273394306)\n",
                  "Tarea(Tarea 7, prioridad=0.5, peso=0.9738000132103355)\n",
                  "Tarea(Tarea 8, prioridad=0.5, peso=0.6373431048292527)\n"
                ]
              }
            ]
          }
        },
        "b8ea959545d44ba1a5a7a63ebe437ea8": {
          "model_module": "@jupyter-widgets/controls",
          "model_module_version": "1.5.0",
          "model_name": "DropdownModel",
          "state": {
            "_dom_classes": [],
            "_model_module": "@jupyter-widgets/controls",
            "_model_module_version": "1.5.0",
            "_model_name": "DropdownModel",
            "_options_labels": [
              "Ascendente",
              "Descendente"
            ],
            "_view_count": null,
            "_view_module": "@jupyter-widgets/controls",
            "_view_module_version": "1.5.0",
            "_view_name": "DropdownView",
            "description": "tipo_ordenamiento",
            "description_tooltip": null,
            "disabled": false,
            "index": 1,
            "layout": "IPY_MODEL_c7cf09fe50894d28a5a1bc3633eceb66",
            "style": "IPY_MODEL_6b4d8fec0cdf4f759b4ffd44f3dc446f"
          }
        },
        "c7cf09fe50894d28a5a1bc3633eceb66": {
          "model_module": "@jupyter-widgets/base",
          "model_module_version": "1.2.0",
          "model_name": "LayoutModel",
          "state": {
            "_model_module": "@jupyter-widgets/base",
            "_model_module_version": "1.2.0",
            "_model_name": "LayoutModel",
            "_view_count": null,
            "_view_module": "@jupyter-widgets/base",
            "_view_module_version": "1.2.0",
            "_view_name": "LayoutView",
            "align_content": null,
            "align_items": null,
            "align_self": null,
            "border": null,
            "bottom": null,
            "display": null,
            "flex": null,
            "flex_flow": null,
            "grid_area": null,
            "grid_auto_columns": null,
            "grid_auto_flow": null,
            "grid_auto_rows": null,
            "grid_column": null,
            "grid_gap": null,
            "grid_row": null,
            "grid_template_areas": null,
            "grid_template_columns": null,
            "grid_template_rows": null,
            "height": null,
            "justify_content": null,
            "justify_items": null,
            "left": null,
            "margin": null,
            "max_height": null,
            "max_width": null,
            "min_height": null,
            "min_width": null,
            "object_fit": null,
            "object_position": null,
            "order": null,
            "overflow": null,
            "overflow_x": null,
            "overflow_y": null,
            "padding": null,
            "right": null,
            "top": null,
            "visibility": null,
            "width": null
          }
        },
        "e07002110057432ba9373af2ea6962be": {
          "model_module": "@jupyter-widgets/base",
          "model_module_version": "1.2.0",
          "model_name": "LayoutModel",
          "state": {
            "_model_module": "@jupyter-widgets/base",
            "_model_module_version": "1.2.0",
            "_model_name": "LayoutModel",
            "_view_count": null,
            "_view_module": "@jupyter-widgets/base",
            "_view_module_version": "1.2.0",
            "_view_name": "LayoutView",
            "align_content": null,
            "align_items": null,
            "align_self": null,
            "border": null,
            "bottom": null,
            "display": null,
            "flex": null,
            "flex_flow": null,
            "grid_area": null,
            "grid_auto_columns": null,
            "grid_auto_flow": null,
            "grid_auto_rows": null,
            "grid_column": null,
            "grid_gap": null,
            "grid_row": null,
            "grid_template_areas": null,
            "grid_template_columns": null,
            "grid_template_rows": null,
            "height": null,
            "justify_content": null,
            "justify_items": null,
            "left": null,
            "margin": null,
            "max_height": null,
            "max_width": null,
            "min_height": null,
            "min_width": null,
            "object_fit": null,
            "object_position": null,
            "order": null,
            "overflow": null,
            "overflow_x": null,
            "overflow_y": null,
            "padding": null,
            "right": null,
            "top": null,
            "visibility": null,
            "width": null
          }
        },
        "e17a0a75b8c742cabfe955832c5c4a00": {
          "model_module": "@jupyter-widgets/base",
          "model_module_version": "1.2.0",
          "model_name": "LayoutModel",
          "state": {
            "_model_module": "@jupyter-widgets/base",
            "_model_module_version": "1.2.0",
            "_model_name": "LayoutModel",
            "_view_count": null,
            "_view_module": "@jupyter-widgets/base",
            "_view_module_version": "1.2.0",
            "_view_name": "LayoutView",
            "align_content": null,
            "align_items": null,
            "align_self": null,
            "border": null,
            "bottom": null,
            "display": null,
            "flex": null,
            "flex_flow": null,
            "grid_area": null,
            "grid_auto_columns": null,
            "grid_auto_flow": null,
            "grid_auto_rows": null,
            "grid_column": null,
            "grid_gap": null,
            "grid_row": null,
            "grid_template_areas": null,
            "grid_template_columns": null,
            "grid_template_rows": null,
            "height": null,
            "justify_content": null,
            "justify_items": null,
            "left": null,
            "margin": null,
            "max_height": null,
            "max_width": null,
            "min_height": null,
            "min_width": null,
            "object_fit": null,
            "object_position": null,
            "order": null,
            "overflow": null,
            "overflow_x": null,
            "overflow_y": null,
            "padding": null,
            "right": null,
            "top": null,
            "visibility": null,
            "width": null
          }
        }
      }
    }
  },
  "nbformat": 4,
  "nbformat_minor": 0
}

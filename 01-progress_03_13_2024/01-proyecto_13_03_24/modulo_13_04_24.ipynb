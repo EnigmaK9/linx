{
  "cells": [
    {
      "cell_type": "markdown",
      "metadata": {
        "id": "gJm5Fnrgmg77"
      },
      "source": []
    },
    {
      "cell_type": "code",
      "execution_count": 13,
      "metadata": {
        "id": "kve4HLLTwvP_"
      },
      "outputs": [],
      "source": [
        "import random\n",
        "from ipywidgets import interact, widgets, IntSlider\n"
      ]
    },
    {
      "cell_type": "code",
      "execution_count": 14,
      "metadata": {
        "id": "c5M9l-z_wyiA"
      },
      "outputs": [],
      "source": [
        "# Definición de la clase Tarea\n",
        "class Tarea:\n",
        "    def __init__(self, nombre, prioridad=0.5, peso=1, consumo = 0.03):\n",
        "        '''Inicializa una tarea con un nombre, prioridad y peso por defecto'''\n",
        "        self.nombre = nombre\n",
        "        self.prioridad = prioridad\n",
        "        self.peso = peso\n",
        "        self.consumo = consumo\n",
        "\n",
        "    def __repr__(self):\n",
        "        '''Representación de la tarea en forma de cadena'''\n",
        "        return f\"Tarea({self.nombre}, prioridad={self.prioridad}, peso={self.peso}, consumo={self.consumo})\""
      ]
    },
    {
      "cell_type": "code",
      "execution_count": 15,
      "metadata": {
        "id": "B8PeYxxcw2w2"
      },
      "outputs": [],
      "source": [
        "# Definición de la clase VectorTareas\n",
        "class VectorTareas:\n",
        "    def __init__(self, longitud=5):\n",
        "        '''Inicializa un vector de tareas con una longitud dada'''\n",
        "        self.longitud = longitud\n",
        "        # Ajustar los pesos de las tareas según lo solicitado\n",
        "        self.tareas = [Tarea(f\"Tarea {i+1}\", peso=1 if i < 2 else 0 if i == 2 else random.uniform(0, 1), consumo=10 if i == 0 else 20 if i == 1 else 30 if i == 2 else 40 if i == 3 else random.uniform(0, 100)) for i in range(self.longitud)]\n",
        "\n",
        "    def ordenar_por_peso_ascendente(self):\n",
        "        '''Ordena las tareas por peso de menor a mayor'''\n",
        "        self.tareas.sort(key=lambda tarea: tarea.peso)\n",
        "\n",
        "    def ordenar_por_peso_descendente(self):\n",
        "        '''Ordena las tareas por peso de mayor a menor'''\n",
        "        self.tareas.sort(key=lambda tarea: tarea.peso, reverse=True)\n",
        "\n",
        "    def ordenar_por_consumo_ascendente(self):\n",
        "        '''Ordena las tareas por consumo de menor a mayor'''\n",
        "        self.tareas.sort(key=lambda tarea: tarea.consumo)\n",
        "\n",
        "    def ordenar_por_consumo_descendente(self):\n",
        "        '''Ordena las tareas por consumo de mayor a menor'''\n",
        "        self.tareas.sort(key=lambda tarea: tarea.consumo, reverse=True)\n",
        "\n",
        "    def mostrar(self):\n",
        "        '''Muestra todas las tareas en el vector'''\n",
        "        for tarea in self.tareas:\n",
        "            print(tarea)\n",
        "\n",
        "    def cambiar_longitud(self, longitud):\n",
        "        '''Cambia la longitud del vector y crea nuevas tareas si es necesario'''\n",
        "        self.longitud = longitud\n",
        "        # Ajustar los pesos de las tareas según lo solicitado\n",
        "        self.tareas = [Tarea(f\"Tarea {i+1}\", peso=1 if i < 2 else 0 if i == 2 else random.uniform(0, 1), consumo=10 if i == 0 else 20 if i == 1 else 30 if i == 2 else 40 if i == 3 else random.uniform(0, 100)) for i in range(self.longitud)]\n"
      ]
    },
    {
      "cell_type": "code",
      "execution_count": 16,
      "metadata": {
        "colab": {
          "base_uri": "https://localhost:8080/",
          "height": 260,
          "referenced_widgets": [
            "92d74312811b4860b832e8c3d212f898",
            "f616bef7377b4aefaccf04f64558c56a",
            "13db288853134cca8d77a2c7040df4b0",
            "b5d25427cb04469fb72ab7b1f2f7d2a2",
            "6fdf135725a44a65a133bf3bb0d04134",
            "7d0be38f9ad7429cae6c73b294a6ea7e",
            "52c153cc06534bb7b43ee78e4169ef83",
            "ae538b062fc14ed081effd3d8cf07334",
            "92076c22294f4f47b865977df494cb10",
            "031e18ff5f49403ba1c02e5fd2bccc3b",
            "34855b98f2ca430abfefc8c1c93b731f",
            "e22502cfef974b21bde7d9cc7fa59eb7",
            "9ad6a5ac79124730a070ad7f4bde6c67",
            "59a9870b51934fa19d2732f4991811ac"
          ]
        },
        "id": "nu1qPdUgvzls",
        "outputId": "61839613-a8ba-47a4-cb06-9f1c319df4c0"
      },
      "outputs": [
        {
          "data": {
            "application/vnd.jupyter.widget-view+json": {
              "model_id": "4be708b2473d4a188c1cbee35859bb9e",
              "version_major": 2,
              "version_minor": 0
            },
            "text/plain": [
              "interactive(children=(IntSlider(value=5, description='longitud', max=20, min=1), Output()), _dom_classes=('wid…"
            ]
          },
          "metadata": {},
          "output_type": "display_data"
        },
        {
          "data": {
            "application/vnd.jupyter.widget-view+json": {
              "model_id": "e0d1580c0c8b44a59c5bbcb86751d7f6",
              "version_major": 2,
              "version_minor": 0
            },
            "text/plain": [
              "interactive(children=(Dropdown(description='tipo_ordenamiento', options=('Ascendente_por_peso', 'Descendente_p…"
            ]
          },
          "metadata": {},
          "output_type": "display_data"
        }
      ],
      "source": [
        "# Funciones de GUI\n",
        "def actualizar_vector(longitud):\n",
        "    '''Actualiza el vector con una nueva longitud'''\n",
        "    vector.cambiar_longitud(longitud)\n",
        "    mostrar_vector()\n",
        "\n",
        "def ordenar_vector(tipo_ordenamiento):\n",
        "    '''Ordena el vector según el tipo de ordenamiento seleccionado'''\n",
        "    if tipo_ordenamiento == \"Ascendente_por_peso\":\n",
        "        vector.ordenar_por_peso_ascendente()\n",
        "    elif tipo_ordenamiento == \"Descendente_por_peso\":\n",
        "        vector.ordenar_por_peso_descendente()\n",
        "    elif tipo_ordenamiento == \"Ascendente_por_consumo\":\n",
        "        vector.ordenar_por_consumo_ascendente()\n",
        "    elif tipo_ordenamiento == \"Descendente_por_consumo\":\n",
        "        vector.ordenar_por_consumo_descendente()\n",
        "    mostrar_vector()\n",
        "\n",
        "def mostrar_vector():\n",
        "    '''Muestra las tareas del vector'''\n",
        "    for tarea in vector.tareas:\n",
        "        print(tarea)\n",
        "\n",
        "# Crear vector inicial\n",
        "vector = VectorTareas()\n",
        "\n",
        "# Interacción con widgets\n",
        "slider = IntSlider(min=1, max=10)\n",
        "interact_actualizar = interact(actualizar_vector, longitud=widgets.IntSlider(min=1, max=20, value=5))\n",
        "interact_ordenar = interact(ordenar_vector, tipo_ordenamiento=[\"Ascendente_por_peso\", \"Descendente_por_peso\", \"Ascendente_por_consumo\", \"Descendente_por_consumo\"])\n"
      ]
    }
  ],
  "metadata": {
    "colab": {
      "provenance": []
    },
    "kernelspec": {
      "display_name": "Python 3",
      "name": "python3"
    },
    "language_info": {
      "codemirror_mode": {
        "name": "ipython",
        "version": 3
      },
      "file_extension": ".py",
      "mimetype": "text/x-python",
      "name": "python",
      "nbconvert_exporter": "python",
      "pygments_lexer": "ipython3",
      "version": "undefined.undefined.undefined"
    },
    "widgets": {
      "application/vnd.jupyter.widget-state+json": {
        "031e18ff5f49403ba1c02e5fd2bccc3b": {
          "model_module": "@jupyter-widgets/output",
          "model_module_version": "1.0.0",
          "model_name": "OutputModel",
          "state": {
            "_dom_classes": [],
            "_model_module": "@jupyter-widgets/output",
            "_model_module_version": "1.0.0",
            "_model_name": "OutputModel",
            "_view_count": null,
            "_view_module": "@jupyter-widgets/output",
            "_view_module_version": "1.0.0",
            "_view_name": "OutputView",
            "layout": "IPY_MODEL_59a9870b51934fa19d2732f4991811ac",
            "msg_id": "",
            "outputs": [
              {
                "name": "stdout",
                "output_type": "stream",
                "text": [
                  "Tarea(Tarea 3, prioridad=0.5, peso=0, consumo=30)\n",
                  "Tarea(Tarea 5, prioridad=0.5, peso=0.3060668222917252, consumo=72.34534347029538)\n",
                  "Tarea(Tarea 4, prioridad=0.5, peso=0.9654777629218073, consumo=40)\n",
                  "Tarea(Tarea 1, prioridad=0.5, peso=1, consumo=10)\n",
                  "Tarea(Tarea 2, prioridad=0.5, peso=1, consumo=20)\n"
                ]
              }
            ]
          }
        },
        "13db288853134cca8d77a2c7040df4b0": {
          "model_module": "@jupyter-widgets/output",
          "model_module_version": "1.0.0",
          "model_name": "OutputModel",
          "state": {
            "_dom_classes": [],
            "_model_module": "@jupyter-widgets/output",
            "_model_module_version": "1.0.0",
            "_model_name": "OutputModel",
            "_view_count": null,
            "_view_module": "@jupyter-widgets/output",
            "_view_module_version": "1.0.0",
            "_view_name": "OutputView",
            "layout": "IPY_MODEL_52c153cc06534bb7b43ee78e4169ef83",
            "msg_id": "",
            "outputs": [
              {
                "name": "stdout",
                "output_type": "stream",
                "text": [
                  "Tarea(Tarea 1, prioridad=0.5, peso=1, consumo=10)\n",
                  "Tarea(Tarea 2, prioridad=0.5, peso=1, consumo=20)\n",
                  "Tarea(Tarea 3, prioridad=0.5, peso=0, consumo=30)\n",
                  "Tarea(Tarea 4, prioridad=0.5, peso=0.9654777629218073, consumo=40)\n",
                  "Tarea(Tarea 5, prioridad=0.5, peso=0.3060668222917252, consumo=72.34534347029538)\n"
                ]
              }
            ]
          }
        },
        "34855b98f2ca430abfefc8c1c93b731f": {
          "model_module": "@jupyter-widgets/base",
          "model_module_version": "1.2.0",
          "model_name": "LayoutModel",
          "state": {
            "_model_module": "@jupyter-widgets/base",
            "_model_module_version": "1.2.0",
            "_model_name": "LayoutModel",
            "_view_count": null,
            "_view_module": "@jupyter-widgets/base",
            "_view_module_version": "1.2.0",
            "_view_name": "LayoutView",
            "align_content": null,
            "align_items": null,
            "align_self": null,
            "border": null,
            "bottom": null,
            "display": null,
            "flex": null,
            "flex_flow": null,
            "grid_area": null,
            "grid_auto_columns": null,
            "grid_auto_flow": null,
            "grid_auto_rows": null,
            "grid_column": null,
            "grid_gap": null,
            "grid_row": null,
            "grid_template_areas": null,
            "grid_template_columns": null,
            "grid_template_rows": null,
            "height": null,
            "justify_content": null,
            "justify_items": null,
            "left": null,
            "margin": null,
            "max_height": null,
            "max_width": null,
            "min_height": null,
            "min_width": null,
            "object_fit": null,
            "object_position": null,
            "order": null,
            "overflow": null,
            "overflow_x": null,
            "overflow_y": null,
            "padding": null,
            "right": null,
            "top": null,
            "visibility": null,
            "width": null
          }
        },
        "52c153cc06534bb7b43ee78e4169ef83": {
          "model_module": "@jupyter-widgets/base",
          "model_module_version": "1.2.0",
          "model_name": "LayoutModel",
          "state": {
            "_model_module": "@jupyter-widgets/base",
            "_model_module_version": "1.2.0",
            "_model_name": "LayoutModel",
            "_view_count": null,
            "_view_module": "@jupyter-widgets/base",
            "_view_module_version": "1.2.0",
            "_view_name": "LayoutView",
            "align_content": null,
            "align_items": null,
            "align_self": null,
            "border": null,
            "bottom": null,
            "display": null,
            "flex": null,
            "flex_flow": null,
            "grid_area": null,
            "grid_auto_columns": null,
            "grid_auto_flow": null,
            "grid_auto_rows": null,
            "grid_column": null,
            "grid_gap": null,
            "grid_row": null,
            "grid_template_areas": null,
            "grid_template_columns": null,
            "grid_template_rows": null,
            "height": null,
            "justify_content": null,
            "justify_items": null,
            "left": null,
            "margin": null,
            "max_height": null,
            "max_width": null,
            "min_height": null,
            "min_width": null,
            "object_fit": null,
            "object_position": null,
            "order": null,
            "overflow": null,
            "overflow_x": null,
            "overflow_y": null,
            "padding": null,
            "right": null,
            "top": null,
            "visibility": null,
            "width": null
          }
        },
        "59a9870b51934fa19d2732f4991811ac": {
          "model_module": "@jupyter-widgets/base",
          "model_module_version": "1.2.0",
          "model_name": "LayoutModel",
          "state": {
            "_model_module": "@jupyter-widgets/base",
            "_model_module_version": "1.2.0",
            "_model_name": "LayoutModel",
            "_view_count": null,
            "_view_module": "@jupyter-widgets/base",
            "_view_module_version": "1.2.0",
            "_view_name": "LayoutView",
            "align_content": null,
            "align_items": null,
            "align_self": null,
            "border": null,
            "bottom": null,
            "display": null,
            "flex": null,
            "flex_flow": null,
            "grid_area": null,
            "grid_auto_columns": null,
            "grid_auto_flow": null,
            "grid_auto_rows": null,
            "grid_column": null,
            "grid_gap": null,
            "grid_row": null,
            "grid_template_areas": null,
            "grid_template_columns": null,
            "grid_template_rows": null,
            "height": null,
            "justify_content": null,
            "justify_items": null,
            "left": null,
            "margin": null,
            "max_height": null,
            "max_width": null,
            "min_height": null,
            "min_width": null,
            "object_fit": null,
            "object_position": null,
            "order": null,
            "overflow": null,
            "overflow_x": null,
            "overflow_y": null,
            "padding": null,
            "right": null,
            "top": null,
            "visibility": null,
            "width": null
          }
        },
        "6fdf135725a44a65a133bf3bb0d04134": {
          "model_module": "@jupyter-widgets/base",
          "model_module_version": "1.2.0",
          "model_name": "LayoutModel",
          "state": {
            "_model_module": "@jupyter-widgets/base",
            "_model_module_version": "1.2.0",
            "_model_name": "LayoutModel",
            "_view_count": null,
            "_view_module": "@jupyter-widgets/base",
            "_view_module_version": "1.2.0",
            "_view_name": "LayoutView",
            "align_content": null,
            "align_items": null,
            "align_self": null,
            "border": null,
            "bottom": null,
            "display": null,
            "flex": null,
            "flex_flow": null,
            "grid_area": null,
            "grid_auto_columns": null,
            "grid_auto_flow": null,
            "grid_auto_rows": null,
            "grid_column": null,
            "grid_gap": null,
            "grid_row": null,
            "grid_template_areas": null,
            "grid_template_columns": null,
            "grid_template_rows": null,
            "height": null,
            "justify_content": null,
            "justify_items": null,
            "left": null,
            "margin": null,
            "max_height": null,
            "max_width": null,
            "min_height": null,
            "min_width": null,
            "object_fit": null,
            "object_position": null,
            "order": null,
            "overflow": null,
            "overflow_x": null,
            "overflow_y": null,
            "padding": null,
            "right": null,
            "top": null,
            "visibility": null,
            "width": null
          }
        },
        "7d0be38f9ad7429cae6c73b294a6ea7e": {
          "model_module": "@jupyter-widgets/controls",
          "model_module_version": "1.5.0",
          "model_name": "SliderStyleModel",
          "state": {
            "_model_module": "@jupyter-widgets/controls",
            "_model_module_version": "1.5.0",
            "_model_name": "SliderStyleModel",
            "_view_count": null,
            "_view_module": "@jupyter-widgets/base",
            "_view_module_version": "1.2.0",
            "_view_name": "StyleView",
            "description_width": "",
            "handle_color": null
          }
        },
        "92076c22294f4f47b865977df494cb10": {
          "model_module": "@jupyter-widgets/controls",
          "model_module_version": "1.5.0",
          "model_name": "DropdownModel",
          "state": {
            "_dom_classes": [],
            "_model_module": "@jupyter-widgets/controls",
            "_model_module_version": "1.5.0",
            "_model_name": "DropdownModel",
            "_options_labels": [
              "Ascendente_por_peso",
              "Descendente_por_peso",
              "Ascendente_por_consumo",
              "Descendente_por_consumo"
            ],
            "_view_count": null,
            "_view_module": "@jupyter-widgets/controls",
            "_view_module_version": "1.5.0",
            "_view_name": "DropdownView",
            "description": "tipo_ordenamiento",
            "description_tooltip": null,
            "disabled": false,
            "index": 1,
            "layout": "IPY_MODEL_e22502cfef974b21bde7d9cc7fa59eb7",
            "style": "IPY_MODEL_9ad6a5ac79124730a070ad7f4bde6c67"
          }
        },
        "92d74312811b4860b832e8c3d212f898": {
          "model_module": "@jupyter-widgets/controls",
          "model_module_version": "1.5.0",
          "model_name": "VBoxModel",
          "state": {
            "_dom_classes": [
              "widget-interact"
            ],
            "_model_module": "@jupyter-widgets/controls",
            "_model_module_version": "1.5.0",
            "_model_name": "VBoxModel",
            "_view_count": null,
            "_view_module": "@jupyter-widgets/controls",
            "_view_module_version": "1.5.0",
            "_view_name": "VBoxView",
            "box_style": "",
            "children": [
              "IPY_MODEL_f616bef7377b4aefaccf04f64558c56a",
              "IPY_MODEL_13db288853134cca8d77a2c7040df4b0"
            ],
            "layout": "IPY_MODEL_b5d25427cb04469fb72ab7b1f2f7d2a2"
          }
        },
        "9ad6a5ac79124730a070ad7f4bde6c67": {
          "model_module": "@jupyter-widgets/controls",
          "model_module_version": "1.5.0",
          "model_name": "DescriptionStyleModel",
          "state": {
            "_model_module": "@jupyter-widgets/controls",
            "_model_module_version": "1.5.0",
            "_model_name": "DescriptionStyleModel",
            "_view_count": null,
            "_view_module": "@jupyter-widgets/base",
            "_view_module_version": "1.2.0",
            "_view_name": "StyleView",
            "description_width": ""
          }
        },
        "ae538b062fc14ed081effd3d8cf07334": {
          "model_module": "@jupyter-widgets/controls",
          "model_module_version": "1.5.0",
          "model_name": "VBoxModel",
          "state": {
            "_dom_classes": [
              "widget-interact"
            ],
            "_model_module": "@jupyter-widgets/controls",
            "_model_module_version": "1.5.0",
            "_model_name": "VBoxModel",
            "_view_count": null,
            "_view_module": "@jupyter-widgets/controls",
            "_view_module_version": "1.5.0",
            "_view_name": "VBoxView",
            "box_style": "",
            "children": [
              "IPY_MODEL_92076c22294f4f47b865977df494cb10",
              "IPY_MODEL_031e18ff5f49403ba1c02e5fd2bccc3b"
            ],
            "layout": "IPY_MODEL_34855b98f2ca430abfefc8c1c93b731f"
          }
        },
        "b5d25427cb04469fb72ab7b1f2f7d2a2": {
          "model_module": "@jupyter-widgets/base",
          "model_module_version": "1.2.0",
          "model_name": "LayoutModel",
          "state": {
            "_model_module": "@jupyter-widgets/base",
            "_model_module_version": "1.2.0",
            "_model_name": "LayoutModel",
            "_view_count": null,
            "_view_module": "@jupyter-widgets/base",
            "_view_module_version": "1.2.0",
            "_view_name": "LayoutView",
            "align_content": null,
            "align_items": null,
            "align_self": null,
            "border": null,
            "bottom": null,
            "display": null,
            "flex": null,
            "flex_flow": null,
            "grid_area": null,
            "grid_auto_columns": null,
            "grid_auto_flow": null,
            "grid_auto_rows": null,
            "grid_column": null,
            "grid_gap": null,
            "grid_row": null,
            "grid_template_areas": null,
            "grid_template_columns": null,
            "grid_template_rows": null,
            "height": null,
            "justify_content": null,
            "justify_items": null,
            "left": null,
            "margin": null,
            "max_height": null,
            "max_width": null,
            "min_height": null,
            "min_width": null,
            "object_fit": null,
            "object_position": null,
            "order": null,
            "overflow": null,
            "overflow_x": null,
            "overflow_y": null,
            "padding": null,
            "right": null,
            "top": null,
            "visibility": null,
            "width": null
          }
        },
        "e22502cfef974b21bde7d9cc7fa59eb7": {
          "model_module": "@jupyter-widgets/base",
          "model_module_version": "1.2.0",
          "model_name": "LayoutModel",
          "state": {
            "_model_module": "@jupyter-widgets/base",
            "_model_module_version": "1.2.0",
            "_model_name": "LayoutModel",
            "_view_count": null,
            "_view_module": "@jupyter-widgets/base",
            "_view_module_version": "1.2.0",
            "_view_name": "LayoutView",
            "align_content": null,
            "align_items": null,
            "align_self": null,
            "border": null,
            "bottom": null,
            "display": null,
            "flex": null,
            "flex_flow": null,
            "grid_area": null,
            "grid_auto_columns": null,
            "grid_auto_flow": null,
            "grid_auto_rows": null,
            "grid_column": null,
            "grid_gap": null,
            "grid_row": null,
            "grid_template_areas": null,
            "grid_template_columns": null,
            "grid_template_rows": null,
            "height": null,
            "justify_content": null,
            "justify_items": null,
            "left": null,
            "margin": null,
            "max_height": null,
            "max_width": null,
            "min_height": null,
            "min_width": null,
            "object_fit": null,
            "object_position": null,
            "order": null,
            "overflow": null,
            "overflow_x": null,
            "overflow_y": null,
            "padding": null,
            "right": null,
            "top": null,
            "visibility": null,
            "width": null
          }
        },
        "f616bef7377b4aefaccf04f64558c56a": {
          "model_module": "@jupyter-widgets/controls",
          "model_module_version": "1.5.0",
          "model_name": "IntSliderModel",
          "state": {
            "_dom_classes": [],
            "_model_module": "@jupyter-widgets/controls",
            "_model_module_version": "1.5.0",
            "_model_name": "IntSliderModel",
            "_view_count": null,
            "_view_module": "@jupyter-widgets/controls",
            "_view_module_version": "1.5.0",
            "_view_name": "IntSliderView",
            "continuous_update": true,
            "description": "longitud",
            "description_tooltip": null,
            "disabled": false,
            "layout": "IPY_MODEL_6fdf135725a44a65a133bf3bb0d04134",
            "max": 20,
            "min": 1,
            "orientation": "horizontal",
            "readout": true,
            "readout_format": "d",
            "step": 1,
            "style": "IPY_MODEL_7d0be38f9ad7429cae6c73b294a6ea7e",
            "value": 5
          }
        }
      }
    }
  },
  "nbformat": 4,
  "nbformat_minor": 0
}

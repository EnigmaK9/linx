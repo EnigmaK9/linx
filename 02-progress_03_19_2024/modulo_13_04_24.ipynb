{
  "nbformat": 4,
  "nbformat_minor": 0,
  "metadata": {
    "colab": {
      "provenance": []
    },
    "kernelspec": {
      "name": "python3",
      "display_name": "Python 3"
    },
    "language_info": {
      "name": "python"
    },
    "widgets": {
      "application/vnd.jupyter.widget-state+json": {
        "00491364fda9479e8f44b75355a70105": {
          "model_module": "@jupyter-widgets/controls",
          "model_name": "VBoxModel",
          "model_module_version": "1.5.0",
          "state": {
            "_dom_classes": [
              "widget-interact"
            ],
            "_model_module": "@jupyter-widgets/controls",
            "_model_module_version": "1.5.0",
            "_model_name": "VBoxModel",
            "_view_count": null,
            "_view_module": "@jupyter-widgets/controls",
            "_view_module_version": "1.5.0",
            "_view_name": "VBoxView",
            "box_style": "",
            "children": [
              "IPY_MODEL_b00a244523ba4bf5b2bca9630d17a3ba",
              "IPY_MODEL_6835393598944d92ae50c5e88efb53e6"
            ],
            "layout": "IPY_MODEL_be04cf9567a1487ea1e52feca72eed01"
          }
        },
        "b00a244523ba4bf5b2bca9630d17a3ba": {
          "model_module": "@jupyter-widgets/controls",
          "model_name": "IntSliderModel",
          "model_module_version": "1.5.0",
          "state": {
            "_dom_classes": [],
            "_model_module": "@jupyter-widgets/controls",
            "_model_module_version": "1.5.0",
            "_model_name": "IntSliderModel",
            "_view_count": null,
            "_view_module": "@jupyter-widgets/controls",
            "_view_module_version": "1.5.0",
            "_view_name": "IntSliderView",
            "continuous_update": true,
            "description": "longitud",
            "description_tooltip": null,
            "disabled": false,
            "layout": "IPY_MODEL_da5fe58fcf1f47a0805094499525457e",
            "max": 10,
            "min": 1,
            "orientation": "horizontal",
            "readout": true,
            "readout_format": "d",
            "step": 1,
            "style": "IPY_MODEL_a242353c417e499fb29f605509312ad9",
            "value": 10
          }
        },
        "6835393598944d92ae50c5e88efb53e6": {
          "model_module": "@jupyter-widgets/output",
          "model_name": "OutputModel",
          "model_module_version": "1.0.0",
          "state": {
            "_dom_classes": [],
            "_model_module": "@jupyter-widgets/output",
            "_model_module_version": "1.0.0",
            "_model_name": "OutputModel",
            "_view_count": null,
            "_view_module": "@jupyter-widgets/output",
            "_view_module_version": "1.0.0",
            "_view_name": "OutputView",
            "layout": "IPY_MODEL_fafe261d70cb45b98dfba124e7610729",
            "msg_id": "",
            "outputs": [
              {
                "output_type": "stream",
                "name": "stdout",
                "text": [
                  "Tarea(Tarea 1, prioridad=0.88, peso=1, consumo=10, duracion=15.79)\n",
                  "Tarea(Tarea 2, prioridad=0.48, peso=1, consumo=20, duracion=11.34)\n",
                  "Tarea(Tarea 3, prioridad=0.88, peso=0, consumo=30, duracion=41.3)\n",
                  "Tarea(Tarea 4, prioridad=0.92, peso=0.17, consumo=74.6, duracion=43.0)\n",
                  "Tarea(Tarea 5, prioridad=0.46, peso=0.22, consumo=56.49, duracion=32.72)\n",
                  "Tarea(Tarea 6, prioridad=0.39, peso=0.28, consumo=12.92, duracion=30.63)\n",
                  "Tarea(Tarea 7, prioridad=0.03, peso=0.72, consumo=51.04, duracion=12.08)\n",
                  "Tarea(Tarea 8, prioridad=0.03, peso=0.94, consumo=35.98, duracion=1.72)\n",
                  "Tarea(Tarea 9, prioridad=0.49, peso=0.5, consumo=74.95, duracion=11.5)\n",
                  "Tarea(Tarea 10, prioridad=0.26, peso=0.93, consumo=96.8, duracion=14.26)\n"
                ]
              }
            ]
          }
        },
        "be04cf9567a1487ea1e52feca72eed01": {
          "model_module": "@jupyter-widgets/base",
          "model_name": "LayoutModel",
          "model_module_version": "1.2.0",
          "state": {
            "_model_module": "@jupyter-widgets/base",
            "_model_module_version": "1.2.0",
            "_model_name": "LayoutModel",
            "_view_count": null,
            "_view_module": "@jupyter-widgets/base",
            "_view_module_version": "1.2.0",
            "_view_name": "LayoutView",
            "align_content": null,
            "align_items": null,
            "align_self": null,
            "border": null,
            "bottom": null,
            "display": null,
            "flex": null,
            "flex_flow": null,
            "grid_area": null,
            "grid_auto_columns": null,
            "grid_auto_flow": null,
            "grid_auto_rows": null,
            "grid_column": null,
            "grid_gap": null,
            "grid_row": null,
            "grid_template_areas": null,
            "grid_template_columns": null,
            "grid_template_rows": null,
            "height": null,
            "justify_content": null,
            "justify_items": null,
            "left": null,
            "margin": null,
            "max_height": null,
            "max_width": null,
            "min_height": null,
            "min_width": null,
            "object_fit": null,
            "object_position": null,
            "order": null,
            "overflow": null,
            "overflow_x": null,
            "overflow_y": null,
            "padding": null,
            "right": null,
            "top": null,
            "visibility": null,
            "width": null
          }
        },
        "da5fe58fcf1f47a0805094499525457e": {
          "model_module": "@jupyter-widgets/base",
          "model_name": "LayoutModel",
          "model_module_version": "1.2.0",
          "state": {
            "_model_module": "@jupyter-widgets/base",
            "_model_module_version": "1.2.0",
            "_model_name": "LayoutModel",
            "_view_count": null,
            "_view_module": "@jupyter-widgets/base",
            "_view_module_version": "1.2.0",
            "_view_name": "LayoutView",
            "align_content": null,
            "align_items": null,
            "align_self": null,
            "border": null,
            "bottom": null,
            "display": null,
            "flex": null,
            "flex_flow": null,
            "grid_area": null,
            "grid_auto_columns": null,
            "grid_auto_flow": null,
            "grid_auto_rows": null,
            "grid_column": null,
            "grid_gap": null,
            "grid_row": null,
            "grid_template_areas": null,
            "grid_template_columns": null,
            "grid_template_rows": null,
            "height": null,
            "justify_content": null,
            "justify_items": null,
            "left": null,
            "margin": null,
            "max_height": null,
            "max_width": null,
            "min_height": null,
            "min_width": null,
            "object_fit": null,
            "object_position": null,
            "order": null,
            "overflow": null,
            "overflow_x": null,
            "overflow_y": null,
            "padding": null,
            "right": null,
            "top": null,
            "visibility": null,
            "width": null
          }
        },
        "a242353c417e499fb29f605509312ad9": {
          "model_module": "@jupyter-widgets/controls",
          "model_name": "SliderStyleModel",
          "model_module_version": "1.5.0",
          "state": {
            "_model_module": "@jupyter-widgets/controls",
            "_model_module_version": "1.5.0",
            "_model_name": "SliderStyleModel",
            "_view_count": null,
            "_view_module": "@jupyter-widgets/base",
            "_view_module_version": "1.2.0",
            "_view_name": "StyleView",
            "description_width": "initial",
            "handle_color": "#4CAF50"
          }
        },
        "fafe261d70cb45b98dfba124e7610729": {
          "model_module": "@jupyter-widgets/base",
          "model_name": "LayoutModel",
          "model_module_version": "1.2.0",
          "state": {
            "_model_module": "@jupyter-widgets/base",
            "_model_module_version": "1.2.0",
            "_model_name": "LayoutModel",
            "_view_count": null,
            "_view_module": "@jupyter-widgets/base",
            "_view_module_version": "1.2.0",
            "_view_name": "LayoutView",
            "align_content": null,
            "align_items": null,
            "align_self": null,
            "border": null,
            "bottom": null,
            "display": null,
            "flex": null,
            "flex_flow": null,
            "grid_area": null,
            "grid_auto_columns": null,
            "grid_auto_flow": null,
            "grid_auto_rows": null,
            "grid_column": null,
            "grid_gap": null,
            "grid_row": null,
            "grid_template_areas": null,
            "grid_template_columns": null,
            "grid_template_rows": null,
            "height": null,
            "justify_content": null,
            "justify_items": null,
            "left": null,
            "margin": null,
            "max_height": null,
            "max_width": null,
            "min_height": null,
            "min_width": null,
            "object_fit": null,
            "object_position": null,
            "order": null,
            "overflow": null,
            "overflow_x": null,
            "overflow_y": null,
            "padding": null,
            "right": null,
            "top": null,
            "visibility": null,
            "width": null
          }
        },
        "ad33a78a42c94e6cb771d5a007b30a7d": {
          "model_module": "@jupyter-widgets/controls",
          "model_name": "VBoxModel",
          "model_module_version": "1.5.0",
          "state": {
            "_dom_classes": [
              "widget-interact"
            ],
            "_model_module": "@jupyter-widgets/controls",
            "_model_module_version": "1.5.0",
            "_model_name": "VBoxModel",
            "_view_count": null,
            "_view_module": "@jupyter-widgets/controls",
            "_view_module_version": "1.5.0",
            "_view_name": "VBoxView",
            "box_style": "",
            "children": [
              "IPY_MODEL_3c649844fa8e47d0b8ead846a12aed5b",
              "IPY_MODEL_b8a2b52522d74e42a8f341fde007ffb3"
            ],
            "layout": "IPY_MODEL_0b63d55f015a42bcba5f05a8777c88da"
          }
        },
        "3c649844fa8e47d0b8ead846a12aed5b": {
          "model_module": "@jupyter-widgets/controls",
          "model_name": "DropdownModel",
          "model_module_version": "1.5.0",
          "state": {
            "_dom_classes": [],
            "_model_module": "@jupyter-widgets/controls",
            "_model_module_version": "1.5.0",
            "_model_name": "DropdownModel",
            "_options_labels": [
              "Ascendente_por_peso",
              "Descendente_por_peso",
              "Ascendente_por_consumo",
              "Descendente_por_consumo",
              "Ascendente_por_prioridad",
              "Descendente_por_prioridad",
              "Ascendente_por_duracion",
              "Descendente_por_duracion",
              "Acendente_PrioridadyConsumo",
              "Descendente_PrioridadyConsumo"
            ],
            "_view_count": null,
            "_view_module": "@jupyter-widgets/controls",
            "_view_module_version": "1.5.0",
            "_view_name": "DropdownView",
            "description": "tipo_ordenamiento",
            "description_tooltip": null,
            "disabled": false,
            "index": 1,
            "layout": "IPY_MODEL_80218ee3eb69412ba8cee9e1fbbc6b1a",
            "style": "IPY_MODEL_6d065b8a26de40a883f4f4803daee844"
          }
        },
        "b8a2b52522d74e42a8f341fde007ffb3": {
          "model_module": "@jupyter-widgets/output",
          "model_name": "OutputModel",
          "model_module_version": "1.0.0",
          "state": {
            "_dom_classes": [],
            "_model_module": "@jupyter-widgets/output",
            "_model_module_version": "1.0.0",
            "_model_name": "OutputModel",
            "_view_count": null,
            "_view_module": "@jupyter-widgets/output",
            "_view_module_version": "1.0.0",
            "_view_name": "OutputView",
            "layout": "IPY_MODEL_08c60c32a9f643b79423f91b883f8072",
            "msg_id": "",
            "outputs": [
              {
                "output_type": "stream",
                "name": "stdout",
                "text": [
                  "Tarea(Tarea 1, prioridad=0.88, peso=1, consumo=10, duracion=15.79)\n",
                  "Tarea(Tarea 2, prioridad=0.48, peso=1, consumo=20, duracion=11.34)\n",
                  "Tarea(Tarea 8, prioridad=0.03, peso=0.94, consumo=35.98, duracion=1.72)\n",
                  "Tarea(Tarea 10, prioridad=0.26, peso=0.93, consumo=96.8, duracion=14.26)\n",
                  "Tarea(Tarea 7, prioridad=0.03, peso=0.72, consumo=51.04, duracion=12.08)\n",
                  "Tarea(Tarea 9, prioridad=0.49, peso=0.5, consumo=74.95, duracion=11.5)\n",
                  "Tarea(Tarea 6, prioridad=0.39, peso=0.28, consumo=12.92, duracion=30.63)\n",
                  "Tarea(Tarea 5, prioridad=0.46, peso=0.22, consumo=56.49, duracion=32.72)\n",
                  "Tarea(Tarea 4, prioridad=0.92, peso=0.17, consumo=74.6, duracion=43.0)\n",
                  "Tarea(Tarea 3, prioridad=0.88, peso=0, consumo=30, duracion=41.3)\n"
                ]
              }
            ]
          }
        },
        "0b63d55f015a42bcba5f05a8777c88da": {
          "model_module": "@jupyter-widgets/base",
          "model_name": "LayoutModel",
          "model_module_version": "1.2.0",
          "state": {
            "_model_module": "@jupyter-widgets/base",
            "_model_module_version": "1.2.0",
            "_model_name": "LayoutModel",
            "_view_count": null,
            "_view_module": "@jupyter-widgets/base",
            "_view_module_version": "1.2.0",
            "_view_name": "LayoutView",
            "align_content": null,
            "align_items": null,
            "align_self": null,
            "border": null,
            "bottom": null,
            "display": null,
            "flex": null,
            "flex_flow": null,
            "grid_area": null,
            "grid_auto_columns": null,
            "grid_auto_flow": null,
            "grid_auto_rows": null,
            "grid_column": null,
            "grid_gap": null,
            "grid_row": null,
            "grid_template_areas": null,
            "grid_template_columns": null,
            "grid_template_rows": null,
            "height": null,
            "justify_content": null,
            "justify_items": null,
            "left": null,
            "margin": null,
            "max_height": null,
            "max_width": null,
            "min_height": null,
            "min_width": null,
            "object_fit": null,
            "object_position": null,
            "order": null,
            "overflow": null,
            "overflow_x": null,
            "overflow_y": null,
            "padding": null,
            "right": null,
            "top": null,
            "visibility": null,
            "width": null
          }
        },
        "80218ee3eb69412ba8cee9e1fbbc6b1a": {
          "model_module": "@jupyter-widgets/base",
          "model_name": "LayoutModel",
          "model_module_version": "1.2.0",
          "state": {
            "_model_module": "@jupyter-widgets/base",
            "_model_module_version": "1.2.0",
            "_model_name": "LayoutModel",
            "_view_count": null,
            "_view_module": "@jupyter-widgets/base",
            "_view_module_version": "1.2.0",
            "_view_name": "LayoutView",
            "align_content": null,
            "align_items": null,
            "align_self": null,
            "border": null,
            "bottom": null,
            "display": null,
            "flex": null,
            "flex_flow": null,
            "grid_area": null,
            "grid_auto_columns": null,
            "grid_auto_flow": null,
            "grid_auto_rows": null,
            "grid_column": null,
            "grid_gap": null,
            "grid_row": null,
            "grid_template_areas": null,
            "grid_template_columns": null,
            "grid_template_rows": null,
            "height": null,
            "justify_content": null,
            "justify_items": null,
            "left": null,
            "margin": null,
            "max_height": null,
            "max_width": null,
            "min_height": null,
            "min_width": null,
            "object_fit": null,
            "object_position": null,
            "order": null,
            "overflow": null,
            "overflow_x": null,
            "overflow_y": null,
            "padding": null,
            "right": null,
            "top": null,
            "visibility": null,
            "width": null
          }
        },
        "6d065b8a26de40a883f4f4803daee844": {
          "model_module": "@jupyter-widgets/controls",
          "model_name": "DescriptionStyleModel",
          "model_module_version": "1.5.0",
          "state": {
            "_model_module": "@jupyter-widgets/controls",
            "_model_module_version": "1.5.0",
            "_model_name": "DescriptionStyleModel",
            "_view_count": null,
            "_view_module": "@jupyter-widgets/base",
            "_view_module_version": "1.2.0",
            "_view_name": "StyleView",
            "description_width": ""
          }
        },
        "08c60c32a9f643b79423f91b883f8072": {
          "model_module": "@jupyter-widgets/base",
          "model_name": "LayoutModel",
          "model_module_version": "1.2.0",
          "state": {
            "_model_module": "@jupyter-widgets/base",
            "_model_module_version": "1.2.0",
            "_model_name": "LayoutModel",
            "_view_count": null,
            "_view_module": "@jupyter-widgets/base",
            "_view_module_version": "1.2.0",
            "_view_name": "LayoutView",
            "align_content": null,
            "align_items": null,
            "align_self": null,
            "border": null,
            "bottom": null,
            "display": null,
            "flex": null,
            "flex_flow": null,
            "grid_area": null,
            "grid_auto_columns": null,
            "grid_auto_flow": null,
            "grid_auto_rows": null,
            "grid_column": null,
            "grid_gap": null,
            "grid_row": null,
            "grid_template_areas": null,
            "grid_template_columns": null,
            "grid_template_rows": null,
            "height": null,
            "justify_content": null,
            "justify_items": null,
            "left": null,
            "margin": null,
            "max_height": null,
            "max_width": null,
            "min_height": null,
            "min_width": null,
            "object_fit": null,
            "object_position": null,
            "order": null,
            "overflow": null,
            "overflow_x": null,
            "overflow_y": null,
            "padding": null,
            "right": null,
            "top": null,
            "visibility": null,
            "width": null
          }
        }
      }
    }
  },
  "cells": [
    {
      "cell_type": "markdown",
      "source": [],
      "metadata": {
        "id": "gJm5Fnrgmg77"
      }
    },
    {
      "cell_type": "code",
      "source": [
        "from ipywidgets import interact, widgets\n",
        "from IPython.display import display\n",
        "import matplotlib.pyplot as plt\n"
      ],
      "metadata": {
        "id": "kve4HLLTwvP_"
      },
      "execution_count": 25,
      "outputs": []
    },
    {
      "cell_type": "code",
      "source": [
        "# Estilos y colores personalizados\n",
        "style = {'description_width': 'initial'}\n",
        "slider_style = {'description_width': 'initial', 'handle_color': '#4CAF50'}\n",
        "button_style = {'button_color': '#4CAF50'}"
      ],
      "metadata": {
        "id": "eP6K8R43xy4t"
      },
      "execution_count": 26,
      "outputs": []
    },
    {
      "cell_type": "code",
      "source": [
        "# Definición de la clase Tarea\n",
        "class Tarea:\n",
        "    def __init__(self, nombre, prioridad=0.5, peso=1, consumo=0, duracion=0):\n",
        "        '''Inicializa una tarea con un nombre, prioridad, peso, etc... por defecto'''\n",
        "        self.nombre = nombre\n",
        "        self.prioridad = prioridad\n",
        "        self.peso = peso\n",
        "        self.consumo = consumo\n",
        "        self.duracion = duracion\n",
        "\n",
        "    def __repr__(self):\n",
        "        '''Representación de la tarea en forma de cadena'''\n",
        "        return f\"Tarea({self.nombre}, prioridad={self.prioridad}, peso={self.peso}, consumo={self.consumo}, duracion={self.duracion})\""
      ],
      "metadata": {
        "id": "c5M9l-z_wyiA"
      },
      "execution_count": 27,
      "outputs": []
    },
    {
      "cell_type": "code",
      "source": [
        "# Definición de clase para el uso de dos decimales\n",
        "def dos_decimales(low, high):\n",
        "    decimales = np.random.uniform(low, high)\n",
        "    redondeo = np.round(decimales, 2)\n",
        "    return redondeo"
      ],
      "metadata": {
        "id": "b7ZhcWn42wKS"
      },
      "execution_count": 28,
      "outputs": []
    },
    {
      "cell_type": "code",
      "source": [
        "#Definición de la clase VectorTareas\n",
        "class VectorTareas:\n",
        "    def __init__(self, longitud=5):\n",
        "        '''Inicializa un vector de tareas con una longitud dada'''\n",
        "        self.longitud = longitud\n",
        "        # Ajustar los pesos de las tareas según lo solicitado\n",
        "        self.tareas = [Tarea(f\"Tarea {i+1}\", peso=1 if i < 2 else 0 if i == 2 else dos_decimales(0, 1),\n",
        "                     consumo=10 if i == 0 else 20 if i == 1 else 30 if i == 2 else dos_decimales(10, 100), prioridad = dos_decimales(0, 1), duracion = dos_decimales(1,50)) for i in range(self.longitud)]\n",
        "\n",
        "    def ordenar_por_peso_ascendente(self):\n",
        "        '''Ordena las tareas por peso de menor a mayor'''\n",
        "        self.tareas.sort(key=lambda tarea: tarea.peso)\n",
        "\n",
        "    def ordenar_por_peso_descendente(self):\n",
        "        '''Ordena las tareas por peso de mayor a menor'''\n",
        "        self.tareas.sort(key=lambda tarea: tarea.peso, reverse=True)\n",
        "\n",
        "    def ordenar_por_consumo_ascendente(self):\n",
        "        '''Ordena las tareas por consumo de menor a mayor'''\n",
        "        self.tareas.sort(key=lambda tarea: tarea.consumo)\n",
        "\n",
        "    def ordenar_por_consumo_descendente(self):\n",
        "        '''Ordena las tareas por consumo de mayor a menor'''\n",
        "        self.tareas.sort(key=lambda tarea: tarea.consumo, reverse=True)\n",
        "\n",
        "    def ordenar_por_prioridad_ascendente(self):\n",
        "        '''Ordena las tareas por prioridad de menor a mayor'''\n",
        "        self.tareas.sort(key=lambda tarea: tarea.prioridad)\n",
        "\n",
        "    def ordenar_por_prioridad_descendente(self):\n",
        "        '''Ordena las tareas por prioridad de mayor a menor'''\n",
        "        self.tareas.sort(key=lambda tarea: tarea.prioridad, reverse=True)\n",
        "\n",
        "    def ordenar_por_duracion_ascendente(self):\n",
        "        '''Ordena las tareas por duración de menor a mayor'''\n",
        "        self.tareas.sort(key=lambda tarea: tarea.duracion)\n",
        "\n",
        "    def ordenar_por_duracion_descendente(self):\n",
        "        '''Ordena las tareas por duración de mayor a menor'''\n",
        "        self.tareas.sort(key=lambda tarea: tarea.duracion, reverse=True)\n",
        "\n",
        "    def ordenar_por_prioridadConsumo_ascendente(self):\n",
        "        '''Ordena las tareas por prioridad y consumo de menor a mayor'''\n",
        "        self.tareas.sort(key=lambda tarea: (tarea.prioridad, tarea.consumo))\n",
        "\n",
        "    def ordenar_por_prioridadConsumo_descendente(self):\n",
        "        '''Ordena las tareas por prioridad y consumo de menor a mayor'''\n",
        "        self.tareas.sort(key=lambda tarea: (tarea.prioridad, tarea.consumo), reverse=True)\n",
        "\n",
        "\n",
        "    def mostrar(self):\n",
        "        '''Muestra todas las tareas en el vector'''\n",
        "        for tarea in self.tareas:\n",
        "            print(tarea)\n",
        "\n",
        "    def cambiar_longitud(self, longitud):\n",
        "        '''Cambia la longitud del vector y crea nuevas tareas si es necesario'''\n",
        "        self.longitud = longitud\n",
        "        # Ajustar los pesos de las tareas según lo solicitado\n",
        "        self.tareas = [Tarea(f\"Tarea {i+1}\", peso=1 if i < 2 else 0 if i == 2 else dos_decimales(0, 1),\n",
        "                     consumo=10 if i == 0 else 20 if i == 1 else 30 if i == 2 else dos_decimales(10, 100), prioridad = dos_decimales(0, 1), duracion = dos_decimales(1,50)) for i in range(self.longitud)]\n"
      ],
      "metadata": {
        "id": "ZTwazOUJ26FF"
      },
      "execution_count": 29,
      "outputs": []
    },
    {
      "cell_type": "code",
      "source": [
        "# Funciones de GUI\n",
        "def actualizar_vector(longitud):\n",
        "    '''Actualiza el vector con una nueva longitud'''\n",
        "    vector.cambiar_longitud(longitud)\n",
        "    mostrar_vector()\n",
        "\n",
        "def ordenar_vector(tipo_ordenamiento):\n",
        "    '''Ordena el vector según el tipo de ordenamiento seleccionado'''\n",
        "    if tipo_ordenamiento == \"Ascendente_por_peso\":\n",
        "        vector.ordenar_por_peso_ascendente()\n",
        "    elif tipo_ordenamiento == \"Descendente_por_peso\":\n",
        "        vector.ordenar_por_peso_descendente()\n",
        "    elif tipo_ordenamiento == \"Ascendente_por_consumo\":\n",
        "        vector.ordenar_por_consumo_ascendente()\n",
        "    elif tipo_ordenamiento == \"Descendente_por_consumo\":\n",
        "        vector.ordenar_por_consumo_descendente()\n",
        "    elif tipo_ordenamiento == \"Ascendente_por_prioridad\":\n",
        "        vector.ordenar_por_prioridad_ascendente()\n",
        "    elif tipo_ordenamiento == \"Descendente_por_prioridad\":\n",
        "        vector.ordenar_por_prioridad_descendente()\n",
        "    elif tipo_ordenamiento == \"Ascendente_por_duracion\":\n",
        "        vector.ordenar_por_duracion_ascendente()\n",
        "    elif tipo_ordenamiento == \"Descendente_por_duracion\":\n",
        "        vector.ordenar_por_duracion_descendente()\n",
        "    elif tipo_ordenamiento == \"Acendente_PrioridadyConsumo\":\n",
        "        vector.ordenar_por_prioridadConsumo_ascendente()\n",
        "    elif tipo_ordenamiento == \"Descendente_PrioridadyConsumo\":\n",
        "        vector.ordenar_por_prioridadConsumo_descendente()\n",
        "    mostrar_vector()\n",
        "\n",
        "def mostrar_vector():\n",
        "    '''Muestra las tareas del vector'''\n",
        "    for tarea in vector.tareas:\n",
        "        print(tarea)\n",
        "\n",
        "# Crear vector inicial\n",
        "vector = VectorTareas()\n",
        "\n",
        "# Interacción con widgets\n",
        "slider = widgets.IntSlider(min=1, max=10, style=slider_style)\n",
        "interact_actualizar = interact(actualizar_vector, longitud=slider, style=style)\n",
        "interact_ordenar = interact(ordenar_vector, tipo_ordenamiento=[\"Ascendente_por_peso\", \"Descendente_por_peso\", \"Ascendente_por_consumo\", \"Descendente_por_consumo\", \"Ascendente_por_prioridad\", \"Descendente_por_prioridad\", \"Ascendente_por_duracion\", \"Descendente_por_duracion\", \"Acendente_PrioridadyConsumo\", \"Descendente_PrioridadyConsumo\"], style=style)"
      ],
      "metadata": {
        "colab": {
          "base_uri": "https://localhost:8080/",
          "height": 440,
          "referenced_widgets": [
            "00491364fda9479e8f44b75355a70105",
            "b00a244523ba4bf5b2bca9630d17a3ba",
            "6835393598944d92ae50c5e88efb53e6",
            "be04cf9567a1487ea1e52feca72eed01",
            "da5fe58fcf1f47a0805094499525457e",
            "a242353c417e499fb29f605509312ad9",
            "fafe261d70cb45b98dfba124e7610729",
            "ad33a78a42c94e6cb771d5a007b30a7d",
            "3c649844fa8e47d0b8ead846a12aed5b",
            "b8a2b52522d74e42a8f341fde007ffb3",
            "0b63d55f015a42bcba5f05a8777c88da",
            "80218ee3eb69412ba8cee9e1fbbc6b1a",
            "6d065b8a26de40a883f4f4803daee844",
            "08c60c32a9f643b79423f91b883f8072"
          ]
        },
        "id": "MTMg812p2__T",
        "outputId": "c77ab8c1-6854-4a8b-816c-c955e2a0dbdb"
      },
      "execution_count": 32,
      "outputs": [
        {
          "output_type": "display_data",
          "data": {
            "text/plain": [
              "interactive(children=(IntSlider(value=1, description='longitud', max=10, min=1, style=SliderStyle(description_…"
            ],
            "application/vnd.jupyter.widget-view+json": {
              "version_major": 2,
              "version_minor": 0,
              "model_id": "00491364fda9479e8f44b75355a70105"
            }
          },
          "metadata": {}
        },
        {
          "output_type": "display_data",
          "data": {
            "text/plain": [
              "interactive(children=(Dropdown(description='tipo_ordenamiento', options=('Ascendente_por_peso', 'Descendente_p…"
            ],
            "application/vnd.jupyter.widget-view+json": {
              "version_major": 2,
              "version_minor": 0,
              "model_id": "ad33a78a42c94e6cb771d5a007b30a7d"
            }
          },
          "metadata": {}
        }
      ]
    }
  ]
}
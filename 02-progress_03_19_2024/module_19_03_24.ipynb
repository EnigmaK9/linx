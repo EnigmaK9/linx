{
 "cells": [
  {
   "cell_type": "code",
   "execution_count": 59,
   "metadata": {},
   "outputs": [],
   "source": [
    "from ipywidgets import interact, widgets\n",
    "from IPython.display import display\n",
    "import matplotlib.pyplot as plt\n",
    "import numpy as np\n",
    "from numpy import vectorize"
   ]
  },
  {
   "cell_type": "code",
   "execution_count": 60,
   "metadata": {},
   "outputs": [],
   "source": [
    "\n",
    "# Custom styles and colors\n",
    "style = {'description_width': 'initial'}\n",
    "slider_style = {'description_width': 'initial', 'handle_color': '#4CAF50'}\n",
    "button_style = {'button_color': '#4CAF50'}"
   ]
  },
  {
   "cell_type": "code",
   "execution_count": 61,
   "metadata": {},
   "outputs": [],
   "source": [
    "# Definition of the Task class\n",
    "class Task:\n",
    "    def __init__(self, name, priority=0.5, weight=1, consumption=0, duration=0):\n",
    "        '''Initialize a task with a name, priority, weight, etc... by default'''\n",
    "        self.name = name\n",
    "        self.priority = priority\n",
    "        self.weight = weight\n",
    "        self.consumption = consumption\n",
    "        self.duration = duration\n",
    "        \n",
    "\n",
    "\n",
    "\n",
    "    def __repr__(self):\n",
    "        '''String representation of the task'''\n",
    "        return f\"Task({self.name}, priority={self.priority}, weight={self.weight}, consumption={self.consumption}, duration={self.duration})\"\n",
    "\n",
    "# Definition of class for using two decimals\n",
    "def two_decimals(low, high):\n",
    "    decimals = np.random.uniform(low, high)\n",
    "    rounded = np.round(decimals, 2)\n",
    "    return rounded"
   ]
  },
  {
   "cell_type": "code",
   "execution_count": 62,
   "metadata": {},
   "outputs": [],
   "source": [
    "# Definition of the TaskVector class\n",
    "class TaskVector:\n",
    "    def __init__(self, length=5):\n",
    "        '''Initialize a vector of tasks with a given length'''\n",
    "        self.length = length\n",
    "        # Adjust the weights of tasks as requested\n",
    "        self.tasks = [Task(f\"Task {i+1}\", weight=1 if i < 2 else 0 if i == 2 else two_decimals(0, 1),\n",
    "                     consumption=10 if i == 0 else 20 if i == 1 else 30 if i == 2 else two_decimals(10, 100), priority = two_decimals(0, 1), duration = two_decimals(1,50)) for i in range(self.length)]\n",
    "\n",
    "    def sort_by_weight_ascending(self):\n",
    "        '''Sort tasks by weight from lowest to highest'''\n",
    "        self.tasks.sort(key=lambda task: task.weight)\n",
    "\n",
    "    def sort_by_weight_descending(self):\n",
    "        '''Sort tasks by weight from highest to lowest'''\n",
    "        self.tasks.sort(key=lambda task: task.weight, reverse=True)\n",
    "\n",
    "    def sort_by_consumption_ascending(self):\n",
    "        '''Sort tasks by consumption from lowest to highest'''\n",
    "        self.tasks.sort(key=lambda task: task.consumption)\n",
    "\n",
    "    def sort_by_consumption_descending(self):\n",
    "        '''Sort tasks by consumption from highest to lowest'''\n",
    "        self.tasks.sort(key=lambda task: task.consumption, reverse=True)\n",
    "\n",
    "    def sort_by_priority_ascending(self):\n",
    "        '''Sort tasks by priority from lowest to highest'''\n",
    "        self.tasks.sort(key=lambda task: task.priority)\n",
    "\n",
    "    def sort_by_priority_descending(self):\n",
    "        '''Sort tasks by priority from highest to lowest'''\n",
    "        self.tasks.sort(key=lambda task: task.priority, reverse=True)\n",
    "\n",
    "    def sort_by_duration_ascending(self):\n",
    "        '''Sort tasks by duration from lowest to highest'''\n",
    "        self.tasks.sort(key=lambda task: task.duration)\n",
    "\n",
    "    def sort_by_duration_descending(self):\n",
    "        '''Sort tasks by duration from highest to lowest'''\n",
    "        self.tasks.sort(key=lambda task: task.duration, reverse=True)\n",
    "\n",
    "    def sort_by_PriorityandConsumption_ascending(self):\n",
    "        '''Sort tasks by priority and consumption from lowest to highest'''\n",
    "        self.tasks.sort(key=lambda task: (task.priority, task.consumption))\n",
    "\n",
    "    def sort_by_PriorityandConsumption_descending(self):\n",
    "        '''Sort tasks by priority and consumption from lowest to highest'''\n",
    "        self.tasks.sort(key=lambda task: (task.priority, task.consumption), reverse=True)\n",
    "\n"
   ]
  },
  {
   "cell_type": "code",
   "execution_count": 63,
   "metadata": {},
   "outputs": [],
   "source": [
    "def display(self):\n",
    "        '''Display all tasks in the vector'''\n",
    "        for task in self.tasks:\n",
    "            print(task)\n",
    "\n",
    "def change_length(self, length):\n",
    "        '''Change the length of the vector and create new tasks if necessary'''\n",
    "        self.length = length\n",
    "        # Adjust the weights of tasks as requested\n",
    "        self.tasks = [Task(f\"Task {i+1}\", weight=1 if i < 2 else 0 if i == 2 else two_decimals(0, 1),\n",
    "                    consumption=10 if i == 0 else 20 if i == 1 else 30 if i == 2 else two_decimals(10, 100), priority = two_decimals(0, 1), duration = two_decimals(1,50)) for i in range(self.length)]"
   ]
  },
  {
   "cell_type": "code",
   "execution_count": 64,
   "metadata": {},
   "outputs": [],
   "source": [
    "# GUI Functions\n",
    "def update_vector(length):\n",
    "    '''Update the vector with a new length'''\n",
    "    vectorize.change_length(length)\n",
    "    display_vector()\n",
    "\n",
    "def sort_vector(sort_type):\n",
    "    '''Sort the vector based on the selected sorting type'''\n",
    "    if sort_type == \"Ascending_by_weight\":\n",
    "        vector.sort_by_weight_ascending()\n",
    "    elif sort_type == \"Descending_by_weight\":\n",
    "        vector.sort_by_weight_descending()\n",
    "    elif sort_type == \"Ascending_by_consumption\":\n",
    "        vector.sort_by_consumption_ascending()\n",
    "    elif sort_type == \"Descending_by_consumption\":\n",
    "        vector.sort_by_consumption_descending()\n",
    "    elif sort_type == \"Ascending_by_priority\":\n",
    "        vector.sort_by_priority_ascending()\n",
    "    elif sort_type == \"Descending_by_priority\":\n",
    "        vector.sort_by_priority_descending()\n",
    "    elif sort_type == \"Ascending_by_duration\":\n",
    "        vector.sort_by_duration_ascending()\n",
    "    elif sort_type == \"Descending_by_duration\":\n",
    "        vector.sort_by_duration_descending()\n",
    "    elif sort_type == \"Ascending_by_PriorityandConsumption\":\n",
    "        vector.sort_by_PriorityandConsumption_ascending()\n",
    "    elif sort_type == \"Descending_by_PriorityandConsumption\":\n",
    "        vector.sort_by_PriorityandConsumption_descending()\n",
    "    display_vector()\n",
    "\n"
   ]
  },
  {
   "cell_type": "code",
   "execution_count": 66,
   "metadata": {},
   "outputs": [],
   "source": [
    "def display_vector():\n",
    "    '''Display the tasks of the vector'''\n",
    "    for task in vector.tasks:\n",
    "        print(task)"
   ]
  },
  {
   "cell_type": "code",
   "execution_count": 68,
   "metadata": {},
   "outputs": [],
   "source": [
    "# Create initial vector\n",
    "vector = TaskVector()"
   ]
  },
  {
   "cell_type": "code",
   "execution_count": 69,
   "metadata": {},
   "outputs": [
    {
     "data": {
      "application/vnd.jupyter.widget-view+json": {
       "model_id": "b0496f87bac74ad8bdb4b87055aac930",
       "version_major": 2,
       "version_minor": 0
      },
      "text/plain": [
       "interactive(children=(IntSlider(value=1, description='length', max=10, min=1, style=SliderStyle(description_wi…"
      ]
     },
     "metadata": {},
     "output_type": "display_data"
    },
    {
     "data": {
      "application/vnd.jupyter.widget-view+json": {
       "model_id": "31c466f668364652921addda5a52c06e",
       "version_major": 2,
       "version_minor": 0
      },
      "text/plain": [
       "interactive(children=(Dropdown(description='sort_type', options=('Ascending_by_weight', 'Descending_by_weight'…"
      ]
     },
     "metadata": {},
     "output_type": "display_data"
    }
   ],
   "source": [
    "\n",
    "# Widget interactions\n",
    "slider = widgets.IntSlider(min=1, max=10, style=slider_style)\n",
    "interact_update = interact(update_vector, length=slider, style=style)\n",
    "interact_sort = interact(sort_vector, sort_type=[\"Ascending_by_weight\", \"Descending_by_weight\", \"Ascending_by_consumption\", \"Descending_by_consumption\", \"Ascending_by_priority\", \"Descending_by_priority\", \"Ascending_by_duration\", \"Descending_by_duration\", \"Ascending_by_PriorityandConsumption\", \"Descending_by_PriorityandConsumption\"], style=style)"
   ]
  }
 ],
 "metadata": {
  "kernelspec": {
   "display_name": "base",
   "language": "python",
   "name": "python3"
  },
  "language_info": {
   "codemirror_mode": {
    "name": "ipython",
    "version": 3
   },
   "file_extension": ".py",
   "mimetype": "text/x-python",
   "name": "python",
   "nbconvert_exporter": "python",
   "pygments_lexer": "ipython3",
   "version": "3.11.7"
  }
 },
 "nbformat": 4,
 "nbformat_minor": 2
}
